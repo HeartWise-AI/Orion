{
 "cells": [
  {
   "cell_type": "code",
   "execution_count": null,
   "metadata": {},
   "outputs": [],
   "source": [
    "### import os\n",
    "import os\n",
    "import sys\n",
    "\n",
    "## CHANGE THIS\n",
    "dir2 = os.path.abspath(\"/volume/Orion/orion\")\n",
    "dir1 = os.path.dirname(dir2)\n",
    "if not dir1 in sys.path:\n",
    "    sys.path.append(dir1)\n",
    "import importlib\n",
    "\n",
    "importlib.util.find_spec(\"oriÈon\")\n",
    "# import torch\n",
    "import csv\n",
    "\n",
    "import numpy as np\n",
    "import pandas as pd\n",
    "from IPython.core.display import HTML, display\n",
    "\n",
    "display(HTML(\"<style>.container { width:100% !important; }</style>\"))\n",
    "pd.set_option(\"display.max_rows\", 50)\n",
    "pd.set_option(\"display.max_columns\", 250)\n",
    "pd.set_option(\"display.width\", 1000)\n",
    "pd.set_option(\"display.max_colwidth\", 300)\n",
    "pd.options.mode.chained_assignment = None  # default='warn'\n",
    "\n",
    "def df_stats(df):\n",
    "    from tabulate import tabulate \n",
    "    print(\"\\n***** Shape: \", df.shape,\" *****\\n\")\n",
    "    \n",
    "    columns_list = df.columns.values.tolist()\n",
    "    isnull_list = df.isnull().sum().values.tolist()\n",
    "    isunique_list = df.nunique().values.tolist()\n",
    "    dtypes_list = df.dtypes.tolist()\n",
    "    \n",
    "    list_stat_val = list(zip(columns_list, isnull_list, isunique_list, dtypes_list))\n",
    "    df_stat_val = pd.DataFrame(list_stat_val, columns=['Name', 'Null', 'Unique', 'Dtypes'])\n",
    "    print(tabulate(df_stat_val, headers='keys', tablefmt='psql'))\n",
    "    return df.head()"
   ]
  },
  {
   "cell_type": "code",
   "execution_count": null,
   "metadata": {},
   "outputs": [],
   "source": [
    "df_predictions = pd.read_csv('../final_models/swin3d_s_5_32_2_RAdam_new_20231227-115517/df_predictions.csv')\n",
    "df = pd.read_csv(\n",
    "    \"../data/train_val_test_LCA_REGRESSION_with_MHI_2021_data_NAS_path_mu.csv\",\n",
    "    sep=\"µ\",\n",
    ")"
   ]
  },
  {
   "cell_type": "code",
   "execution_count": null,
   "metadata": {},
   "outputs": [],
   "source": [
    "merged_df = df.merge(df_predictions, left_on='FileName', right_on='filename')\n",
    "display(merged_df)"
   ]
  },
  {
   "cell_type": "code",
   "execution_count": null,
   "metadata": {},
   "outputs": [],
   "source": [
    "import numpy as np\n",
    "merged_df['y_hat_sigmoid'] = 1 / (1 + np.exp(-merged_df['y_hat']))\n",
    "correlation = merged_df['y_hat_sigmoid'].corr(merged_df['Value'])\n",
    "print(correlation)\n",
    "correlation = merged_df['y_hat'].corr(merged_df['Value'])\n",
    "print(correlation)\n"
   ]
  },
  {
   "cell_type": "code",
   "execution_count": null,
   "metadata": {},
   "outputs": [],
   "source": [
    "from sklearn.metrics import roc_auc_score\n",
    "\n",
    "auc = roc_auc_score(merged_df['y_true'], merged_df['y_hat_sigmoid'])\n",
    "print(auc)\n"
   ]
  },
  {
   "cell_type": "code",
   "execution_count": null,
   "metadata": {},
   "outputs": [],
   "source": [
    "display(df_stats(merged_df))"
   ]
  },
  {
   "cell_type": "code",
   "execution_count": null,
   "metadata": {},
   "outputs": [],
   "source": [
    "from sklearn.metrics import ConfusionMatrixDisplay\n",
    "import numpy as np\n",
    "import matplotlib.pyplot as plt\n",
    "\n",
    "### some analyses, we then dichotomized this continuous prediction into ≤/>40%, since LVEF ≤40% defines significant left ventricular dysfunction associated and has been a common cutoff for HFrEF.\n",
    "### In sensitivity analysis, we also dichotomized using the <50%/≥50% cutoff which defines mildly reduced LVEF.5 More details in Supplement.\n",
    "\n",
    "grouped_df = merged_df.groupby(['Patient_ID', 'y_true']).agg({'Value': 'mean', 'y_hat': 'mean', 'y_hat_sigmoid': 'mean'}).reset_index()\n",
    "import numpy as np\n",
    "grouped_df['y_hat_sigmoid'] = 1 / (1 + np.exp(-grouped_df['y_hat']))\n",
    "correlation = grouped_df['y_hat_sigmoid'].corr(grouped_df['Value'])\n",
    "print(correlation)\n",
    "correlation = grouped_df['y_hat'].corr(grouped_df['Value'])\n",
    "print(correlation)\n",
    "\n",
    "\n",
    "from sklearn.metrics import roc_auc_score, confusion_matrix\n",
    "\n",
    "grouped_df['y_true_40'] = np.where(grouped_df['Value'] <= 40, 1, 0)\n",
    "auc = roc_auc_score(grouped_df['y_true'], grouped_df['y_hat_sigmoid'])\n",
    "print(auc)\n",
    "grouped_df['y_true_50'] = np.where(grouped_df['Value'] >= 50, 0, 1)\n",
    "auc = roc_auc_score(grouped_df['y_true_50'], grouped_df['y_hat_sigmoid'])\n",
    "print(auc)\n",
    "grouped_df['y_hat_class'] = np.where(grouped_df['y_hat'] >= 0.26, 1, 0)\n",
    "\n",
    "# Function to plot confusion matrix\n",
    "def plot_confusion_matrix(cm, classes, title):\n",
    "    disp = ConfusionMatrixDisplay(confusion_matrix=cm, display_labels=classes)\n",
    "    disp.plot(cmap=plt.cm.Blues)\n",
    "    plt.title(title)\n",
    "    plt.show()\n",
    "\n",
    "\n",
    "\n",
    "# Calculate and plot confusion matrix for y_true_40\n",
    "confusion_matrix_40 = confusion_matrix(grouped_df['y_true_40'], grouped_df['y_hat_class'])\n",
    "print(\"Confusion Matrix for y_true_40:\")\n",
    "print(confusion_matrix_40)\n",
    "plot_confusion_matrix(confusion_matrix_40, classes=['0', '1'], title='Confusion Matrix for y_true_40')\n",
    "\n",
    "# Calculate and plot confusion matrix for y_true_50\n",
    "confusion_matrix_50 = confusion_matrix(grouped_df['y_true_50'], grouped_df['y_hat_class'])\n",
    "print(\"Confusion Matrix for y_true_50:\")\n",
    "print(confusion_matrix_50)\n",
    "plot_confusion_matrix(confusion_matrix_50, classes=['0', '1'], title='Confusion Matrix for y_true_50')"
   ]
  },
  {
   "cell_type": "code",
   "execution_count": null,
   "metadata": {},
   "outputs": [],
   "source": []
  }
 ],
 "metadata": {
  "kernelspec": {
   "display_name": "torch",
   "language": "python",
   "name": "python3"
  },
  "language_info": {
   "codemirror_mode": {
    "name": "ipython",
    "version": 3
   },
   "file_extension": ".py",
   "mimetype": "text/x-python",
   "name": "python",
   "nbconvert_exporter": "python",
   "pygments_lexer": "ipython3"
  }
 },
 "nbformat": 4,
 "nbformat_minor": 2
}
