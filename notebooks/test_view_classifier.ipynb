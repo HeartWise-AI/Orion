{
 "cells": [
  {
   "cell_type": "code",
   "execution_count": 1,
   "metadata": {},
   "outputs": [
    {
     "name": "stderr",
     "output_type": "stream",
     "text": [
      "/tmp/ipykernel_57075/499724434.py:17: DeprecationWarning: Importing display from IPython.core.display is deprecated since IPython 7.14, please import from IPython display\n",
      "  from IPython.core.display import HTML, display\n"
     ]
    },
    {
     "data": {
      "text/html": [
       "<style>.container { width:100% !important; }</style>"
      ],
      "text/plain": [
       "<IPython.core.display.HTML object>"
      ]
     },
     "metadata": {},
     "output_type": "display_data"
    }
   ],
   "source": [
    "import os\n",
    "import sys\n",
    "\n",
    "## CHANGE THIS\n",
    "dir2 = os.path.abspath(\"/volume/Orion/orion\")\n",
    "dir1 = os.path.dirname(dir2)\n",
    "if not dir1 in sys.path:\n",
    "    sys.path.append(dir1)\n",
    "import importlib\n",
    "\n",
    "importlib.util.find_spec(\"orion\")\n",
    "# import torch\n",
    "import csv\n",
    "\n",
    "import numpy as np\n",
    "import pandas as pd\n",
    "from IPython.core.display import HTML, display\n",
    "\n",
    "display(HTML(\"<style>.container { width:100% !important; }</style>\"))\n",
    "pd.set_option(\"display.max_rows\", 50)\n",
    "pd.set_option(\"display.max_columns\", 250)\n",
    "pd.set_option(\"display.width\", 1000)\n",
    "pd.set_option(\"display.max_colwidth\", 300)\n",
    "pd.options.mode.chained_assignment = None  # default='warn'\n",
    "\n",
    "def df_stats(df):\n",
    "    from tabulate import tabulate\n",
    "\n",
    "    print(\"\\n***** Shape: \", df.shape, \" *****\\n\")\n",
    "\n",
    "    df_stat_val = pd.DataFrame({\n",
    "        \"Name\": df.columns,\n",
    "        \"Null\": df.isnull().sum(),\n",
    "        \"Unique\": df.nunique(),\n",
    "        \"Dtypes\": df.dtypes\n",
    "    })\n",
    "\n",
    "    print(tabulate(df_stat_val, headers=\"keys\", tablefmt=\"psql\"))\n",
    "    return df.head()"
   ]
  },
  {
   "cell_type": "markdown",
   "metadata": {},
   "source": [
    "# Train Below"
   ]
  },
  {
   "cell_type": "code",
   "execution_count": 2,
   "metadata": {},
   "outputs": [
    {
     "name": "stderr",
     "output_type": "stream",
     "text": [
      "/tmp/ipykernel_57075/1780464840.py:17: DeprecationWarning: Importing display from IPython.core.display is deprecated since IPython 7.14, please import from IPython display\n",
      "  from IPython.core.display import HTML, display\n"
     ]
    },
    {
     "data": {
      "text/html": [
       "<style>.container { width:100% !important; }</style>"
      ],
      "text/plain": [
       "<IPython.core.display.HTML object>"
      ]
     },
     "metadata": {},
     "output_type": "display_data"
    }
   ],
   "source": [
    "import os\n",
    "import sys\n",
    "\n",
    "## CHANGE THIS\n",
    "dir2 = os.path.abspath(\"/volume/Orion/orion\")\n",
    "dir1 = os.path.dirname(dir2)\n",
    "if not dir1 in sys.path:\n",
    "    sys.path.append(dir1)\n",
    "import importlib\n",
    "\n",
    "importlib.util.find_spec(\"orion\")\n",
    "\n",
    "import csv\n",
    "\n",
    "import numpy as np\n",
    "import pandas as pd\n",
    "from IPython.core.display import HTML, display\n",
    "\n",
    "display(HTML(\"<style>.container { width:100% !important; }</style>\"))\n",
    "pd.set_option(\"display.max_rows\", 50)\n",
    "pd.set_option(\"display.max_columns\", 50)\n",
    "pd.set_option(\"display.width\", 1000)\n",
    "pd.set_option(\"display.max_colwidth\", 300)\n",
    "pd.options.mode.chained_assignment = None  # default='warn'\n"
   ]
  },
  {
   "cell_type": "code",
   "execution_count": 3,
   "metadata": {},
   "outputs": [
    {
     "name": "stdout",
     "output_type": "stream",
     "text": [
      "4\n",
      "12.1\n",
      "12010 cuda compiled version\n",
      "0.16.2 Torchvision version\n",
      "Torch version 2.1.2\n",
      "['sm_50', 'sm_60', 'sm_61', 'sm_70', 'sm_75', 'sm_80', 'sm_86', 'sm_90']\n",
      "(2, 18, 6)\n",
      "Are GPUS available True\n"
     ]
    }
   ],
   "source": [
    "import torch\n",
    "\n",
    "print(torch.cuda.device_count())\n",
    "print(torch.version.cuda)\n",
    "print(torch._C._cuda_getCompiledVersion(), \"cuda compiled version\")\n",
    "\n",
    "import torchvision\n",
    "\n",
    "#torch.set_num_threads(num_threads)\n",
    "\n",
    "print(torchvision.__version__, \"Torchvision version\")\n",
    "print(\"Torch version\", torch.__version__)\n",
    "print(torch.cuda.get_arch_list())\n",
    "\n",
    "print(torch.cuda.nccl.version())\n",
    "print(\"Are GPUS available\", torch.cuda.is_available())"
   ]
  },
  {
   "cell_type": "code",
   "execution_count": null,
   "metadata": {},
   "outputs": [],
   "source": [
    "import pandas as pd\n",
    "## Load  /volume/Orion/data/DeepCORO_ALGO1_ObjectRecong_with_CathEF_UCSF_MHI_dataset_train_test_dev_NAS_path_mu.csv\n",
    "df = pd.read_csv('/volume/Orion/data/DeepCORO_ALGO1_ObjectRecong_with_CathEF_UCSF_MHI_dataset_train_test_dev_NAS_path_small_mu.csv', sep='µ')\n",
    "display(df.Split.value_counts())\n",
    "display(df.object_pred.value_counts())\n",
    "display(df.head(n=5))\n",
    "#display(df.loc[df['Split']=='TEST'])\n",
    "#df[\"Value\"] = df['Value']*100\n",
    "#df.to_csv('/volume/Orion/data/train_val_test_LCA_REGRESSION_with_MHI_2021_data_NAS_path_mu.csv', sep='µ')\n",
    "#display(df.Value.value_counts())"
   ]
  },
  {
   "cell_type": "markdown",
   "metadata": {},
   "source": [
    "### Sweep"
   ]
  },
  {
   "cell_type": "code",
   "execution_count": 5,
   "metadata": {},
   "outputs": [
    {
     "name": "stderr",
     "output_type": "stream",
     "text": [
      "Failed to detect the name of this notebook, you can set it manually with the WANDB_NOTEBOOK_NAME environment variable to enable code saving.\n"
     ]
    },
    {
     "name": "stdout",
     "output_type": "stream",
     "text": [
      "wandb: Agent Starting Run: grfvk5u3 with config:\n",
      "\tfactor: 0.3\n",
      "\tlr: 5.381610756642586e-06\n",
      "\tmodel_name: swin3d_s\n",
      "\toptimizer: RAdam\n",
      "\tpatience: 5\n",
      "\trand_augment: True\n",
      "\tscheduler_type: step\n",
      "\tweight_decay: 1.8512097725793375e-06\n"
     ]
    },
    {
     "name": "stderr",
     "output_type": "stream",
     "text": [
      "[2024-02-28 16:33:10,629] torch.distributed.run: [WARNING] master_addr is only used for static rdzv_backend and when rdzv_endpoint is not specified.\n",
      "[2024-02-28 16:33:10,629] torch.distributed.run: [WARNING] \n",
      "[2024-02-28 16:33:10,629] torch.distributed.run: [WARNING] *****************************************\n",
      "[2024-02-28 16:33:10,629] torch.distributed.run: [WARNING] Setting OMP_NUM_THREADS environment variable for each process to be 1 in default, to avoid your system being overloaded, please further tune the variable for optimal performance in your application as needed. \n",
      "[2024-02-28 16:33:10,629] torch.distributed.run: [WARNING] *****************************************\n",
      "Traceback (most recent call last):\n",
      "  File \"/volume/Orion/notebooks/../orion/utils/video_training_and_eval.py\", line 14, in <module>\n",
      "    import torchmetrics\n",
      "ModuleNotFoundError: No module named 'torchmetrics'\n",
      "Traceback (most recent call last):\n",
      "  File \"/volume/Orion/notebooks/../orion/utils/video_training_and_eval.py\", line 14, in <module>\n",
      "    import torchmetrics\n",
      "ModuleNotFoundError: No module named 'torchmetrics'\n"
     ]
    }
   ],
   "source": [
    "import wandb\n",
    "import yaml\n",
    "\n",
    "def load_yaml_config(file_path):\n",
    "    with open(file_path, 'r') as file:\n",
    "        return yaml.safe_load(file)\n",
    "\n",
    "sweep_conf_file_path = 'config/sweep_config.yaml'\n",
    "sweep_conf = load_yaml_config(sweep_conf_file_path)\n",
    "count = 1  # number of runs to execute\n",
    "\n",
    "#sweep_id = wandb.sweep(sweep_conf,project=sweep_conf['name'])\n",
    "sweep_id = 'mvjk19ll'\n",
    "wandb.agent(\n",
    "    sweep_id=sweep_id,\n",
    "    entity=\"mhi_ai\",\n",
    "    project=sweep_conf['name'])\n",
    "\n",
    "#wandb.agent(\"aiehwvid\", project=\"retry-deadlock\", function=train)\n"
   ]
  },
  {
   "cell_type": "markdown",
   "metadata": {},
   "source": [
    "### Regression"
   ]
  },
  {
   "cell_type": "code",
   "execution_count": 6,
   "metadata": {},
   "outputs": [
    {
     "name": "stderr",
     "output_type": "stream",
     "text": [
      "/tmp/ipykernel_56157/2999566958.py:3: ParserWarning: Falling back to the 'python' engine because the separator encoded in utf-8 is > 1 char long, and the 'c' engine does not support such separators; you can avoid this warning by specifying engine='python'.\n",
      "  df = pd.read_csv(\n"
     ]
    },
    {
     "ename": "FileNotFoundError",
     "evalue": "[Errno 2] No such file or directory: '../data/train_val_test_LCA_REGRESSION_with_MHI_2021_data_NAS_path_small_mu.csv'",
     "output_type": "error",
     "traceback": [
      "\u001b[0;31m---------------------------------------------------------------------------\u001b[0m",
      "\u001b[0;31mFileNotFoundError\u001b[0m                         Traceback (most recent call last)",
      "\u001b[1;32m/volume/Orion/notebooks/test_view_classifier.ipynb Cell 9\u001b[0m line \u001b[0;36m3\n\u001b[1;32m      <a href='vscode-notebook-cell://attached-container%2B7b22636f6e7461696e65724e616d65223a222f636f6d706574656e745f6e6f796365222c2273657474696e6773223a7b22686f7374223a227373683a2f2f31302e3132382e3232382e323239227d7d/volume/Orion/notebooks/test_view_classifier.ipynb#X11sdnNjb2RlLXJlbW90ZQ%3D%3D?line=0'>1</a>\u001b[0m \u001b[39mimport\u001b[39;00m \u001b[39mos\u001b[39;00m\n\u001b[1;32m      <a href='vscode-notebook-cell://attached-container%2B7b22636f6e7461696e65724e616d65223a222f636f6d706574656e745f6e6f796365222c2273657474696e6773223a7b22686f7374223a227373683a2f2f31302e3132382e3232382e323239227d7d/volume/Orion/notebooks/test_view_classifier.ipynb#X11sdnNjb2RlLXJlbW90ZQ%3D%3D?line=1'>2</a>\u001b[0m \u001b[39mimport\u001b[39;00m \u001b[39mos\u001b[39;00m\n\u001b[0;32m----> <a href='vscode-notebook-cell://attached-container%2B7b22636f6e7461696e65724e616d65223a222f636f6d706574656e745f6e6f796365222c2273657474696e6773223a7b22686f7374223a227373683a2f2f31302e3132382e3232382e323239227d7d/volume/Orion/notebooks/test_view_classifier.ipynb#X11sdnNjb2RlLXJlbW90ZQ%3D%3D?line=2'>3</a>\u001b[0m df \u001b[39m=\u001b[39m pd\u001b[39m.\u001b[39;49mread_csv(\n\u001b[1;32m      <a href='vscode-notebook-cell://attached-container%2B7b22636f6e7461696e65724e616d65223a222f636f6d706574656e745f6e6f796365222c2273657474696e6773223a7b22686f7374223a227373683a2f2f31302e3132382e3232382e323239227d7d/volume/Orion/notebooks/test_view_classifier.ipynb#X11sdnNjb2RlLXJlbW90ZQ%3D%3D?line=3'>4</a>\u001b[0m     \u001b[39m\"\u001b[39;49m\u001b[39m../data/train_val_test_LCA_REGRESSION_with_MHI_2021_data_NAS_path_small_mu.csv\u001b[39;49m\u001b[39m\"\u001b[39;49m,\n\u001b[1;32m      <a href='vscode-notebook-cell://attached-container%2B7b22636f6e7461696e65724e616d65223a222f636f6d706574656e745f6e6f796365222c2273657474696e6773223a7b22686f7374223a227373683a2f2f31302e3132382e3232382e323239227d7d/volume/Orion/notebooks/test_view_classifier.ipynb#X11sdnNjb2RlLXJlbW90ZQ%3D%3D?line=4'>5</a>\u001b[0m     sep\u001b[39m=\u001b[39;49m\u001b[39m\"\u001b[39;49m\u001b[39mµ\u001b[39;49m\u001b[39m\"\u001b[39;49m,\n\u001b[1;32m      <a href='vscode-notebook-cell://attached-container%2B7b22636f6e7461696e65724e616d65223a222f636f6d706574656e745f6e6f796365222c2273657474696e6773223a7b22686f7374223a227373683a2f2f31302e3132382e3232382e323239227d7d/volume/Orion/notebooks/test_view_classifier.ipynb#X11sdnNjb2RlLXJlbW90ZQ%3D%3D?line=5'>6</a>\u001b[0m )\n\u001b[1;32m      <a href='vscode-notebook-cell://attached-container%2B7b22636f6e7461696e65724e616d65223a222f636f6d706574656e745f6e6f796365222c2273657474696e6773223a7b22686f7374223a227373683a2f2f31302e3132382e3232382e323239227d7d/volume/Orion/notebooks/test_view_classifier.ipynb#X11sdnNjb2RlLXJlbW90ZQ%3D%3D?line=6'>7</a>\u001b[0m df\u001b[39m.\u001b[39mloc[df[\u001b[39m'\u001b[39m\u001b[39mSplit\u001b[39m\u001b[39m'\u001b[39m]\u001b[39m==\u001b[39m\u001b[39m'\u001b[39m\u001b[39mTEST\u001b[39m\u001b[39m'\u001b[39m]\u001b[39m.\u001b[39my_true_cat\u001b[39m.\u001b[39mhead(n\u001b[39m=\u001b[39m\u001b[39m10\u001b[39m)\n\u001b[1;32m      <a href='vscode-notebook-cell://attached-container%2B7b22636f6e7461696e65724e616d65223a222f636f6d706574656e745f6e6f796365222c2273657474696e6773223a7b22686f7374223a227373683a2f2f31302e3132382e3232382e323239227d7d/volume/Orion/notebooks/test_view_classifier.ipynb#X11sdnNjb2RlLXJlbW90ZQ%3D%3D?line=7'>8</a>\u001b[0m \u001b[39m#df['y_true_cat'] = np.where(df['Value'] < 40.00, 1, 0)\u001b[39;00m\n\u001b[1;32m      <a href='vscode-notebook-cell://attached-container%2B7b22636f6e7461696e65724e616d65223a222f636f6d706574656e745f6e6f796365222c2273657474696e6773223a7b22686f7374223a227373683a2f2f31302e3132382e3232382e323239227d7d/volume/Orion/notebooks/test_view_classifier.ipynb#X11sdnNjb2RlLXJlbW90ZQ%3D%3D?line=8'>9</a>\u001b[0m \u001b[39m#df['FileName'] = df['FileName'].str.replace('/volume/Orion/exported_videos_512_by_512_MHI_UCSF/', '/media/data1/ravram/exported_videos_512_by_512_MHI_UCSF/')\u001b[39;00m\n\u001b[1;32m     <a href='vscode-notebook-cell://attached-container%2B7b22636f6e7461696e65724e616d65223a222f636f6d706574656e745f6e6f796365222c2273657474696e6773223a7b22686f7374223a227373683a2f2f31302e3132382e3232382e323239227d7d/volume/Orion/notebooks/test_view_classifier.ipynb#X11sdnNjb2RlLXJlbW90ZQ%3D%3D?line=9'>10</a>\u001b[0m \u001b[39m#df = df.sample(100)\u001b[39;00m\n\u001b[0;32m   (...)\u001b[0m\n\u001b[1;32m     <a href='vscode-notebook-cell://attached-container%2B7b22636f6e7461696e65724e616d65223a222f636f6d706574656e745f6e6f796365222c2273657474696e6773223a7b22686f7374223a227373683a2f2f31302e3132382e3232382e323239227d7d/volume/Orion/notebooks/test_view_classifier.ipynb#X11sdnNjb2RlLXJlbW90ZQ%3D%3D?line=20'>21</a>\u001b[0m \u001b[39m#split = df.loc[df['FileName'] == file_name, 'Split'].values[0]\u001b[39;00m\n\u001b[1;32m     <a href='vscode-notebook-cell://attached-container%2B7b22636f6e7461696e65724e616d65223a222f636f6d706574656e745f6e6f796365222c2273657474696e6773223a7b22686f7374223a227373683a2f2f31302e3132382e3232382e323239227d7d/volume/Orion/notebooks/test_view_classifier.ipynb#X11sdnNjb2RlLXJlbW90ZQ%3D%3D?line=21'>22</a>\u001b[0m \u001b[39m#print(split)\u001b[39;00m\n",
      "File \u001b[0;32m~/miniforge3/envs/orion/lib/python3.10/site-packages/pandas/io/parsers/readers.py:1026\u001b[0m, in \u001b[0;36mread_csv\u001b[0;34m(filepath_or_buffer, sep, delimiter, header, names, index_col, usecols, dtype, engine, converters, true_values, false_values, skipinitialspace, skiprows, skipfooter, nrows, na_values, keep_default_na, na_filter, verbose, skip_blank_lines, parse_dates, infer_datetime_format, keep_date_col, date_parser, date_format, dayfirst, cache_dates, iterator, chunksize, compression, thousands, decimal, lineterminator, quotechar, quoting, doublequote, escapechar, comment, encoding, encoding_errors, dialect, on_bad_lines, delim_whitespace, low_memory, memory_map, float_precision, storage_options, dtype_backend)\u001b[0m\n\u001b[1;32m   1013\u001b[0m kwds_defaults \u001b[39m=\u001b[39m _refine_defaults_read(\n\u001b[1;32m   1014\u001b[0m     dialect,\n\u001b[1;32m   1015\u001b[0m     delimiter,\n\u001b[0;32m   (...)\u001b[0m\n\u001b[1;32m   1022\u001b[0m     dtype_backend\u001b[39m=\u001b[39mdtype_backend,\n\u001b[1;32m   1023\u001b[0m )\n\u001b[1;32m   1024\u001b[0m kwds\u001b[39m.\u001b[39mupdate(kwds_defaults)\n\u001b[0;32m-> 1026\u001b[0m \u001b[39mreturn\u001b[39;00m _read(filepath_or_buffer, kwds)\n",
      "File \u001b[0;32m~/miniforge3/envs/orion/lib/python3.10/site-packages/pandas/io/parsers/readers.py:620\u001b[0m, in \u001b[0;36m_read\u001b[0;34m(filepath_or_buffer, kwds)\u001b[0m\n\u001b[1;32m    617\u001b[0m _validate_names(kwds\u001b[39m.\u001b[39mget(\u001b[39m\"\u001b[39m\u001b[39mnames\u001b[39m\u001b[39m\"\u001b[39m, \u001b[39mNone\u001b[39;00m))\n\u001b[1;32m    619\u001b[0m \u001b[39m# Create the parser.\u001b[39;00m\n\u001b[0;32m--> 620\u001b[0m parser \u001b[39m=\u001b[39m TextFileReader(filepath_or_buffer, \u001b[39m*\u001b[39;49m\u001b[39m*\u001b[39;49mkwds)\n\u001b[1;32m    622\u001b[0m \u001b[39mif\u001b[39;00m chunksize \u001b[39mor\u001b[39;00m iterator:\n\u001b[1;32m    623\u001b[0m     \u001b[39mreturn\u001b[39;00m parser\n",
      "File \u001b[0;32m~/miniforge3/envs/orion/lib/python3.10/site-packages/pandas/io/parsers/readers.py:1620\u001b[0m, in \u001b[0;36mTextFileReader.__init__\u001b[0;34m(self, f, engine, **kwds)\u001b[0m\n\u001b[1;32m   1617\u001b[0m     \u001b[39mself\u001b[39m\u001b[39m.\u001b[39moptions[\u001b[39m\"\u001b[39m\u001b[39mhas_index_names\u001b[39m\u001b[39m\"\u001b[39m] \u001b[39m=\u001b[39m kwds[\u001b[39m\"\u001b[39m\u001b[39mhas_index_names\u001b[39m\u001b[39m\"\u001b[39m]\n\u001b[1;32m   1619\u001b[0m \u001b[39mself\u001b[39m\u001b[39m.\u001b[39mhandles: IOHandles \u001b[39m|\u001b[39m \u001b[39mNone\u001b[39;00m \u001b[39m=\u001b[39m \u001b[39mNone\u001b[39;00m\n\u001b[0;32m-> 1620\u001b[0m \u001b[39mself\u001b[39m\u001b[39m.\u001b[39m_engine \u001b[39m=\u001b[39m \u001b[39mself\u001b[39;49m\u001b[39m.\u001b[39;49m_make_engine(f, \u001b[39mself\u001b[39;49m\u001b[39m.\u001b[39;49mengine)\n",
      "File \u001b[0;32m~/miniforge3/envs/orion/lib/python3.10/site-packages/pandas/io/parsers/readers.py:1880\u001b[0m, in \u001b[0;36mTextFileReader._make_engine\u001b[0;34m(self, f, engine)\u001b[0m\n\u001b[1;32m   1878\u001b[0m     \u001b[39mif\u001b[39;00m \u001b[39m\"\u001b[39m\u001b[39mb\u001b[39m\u001b[39m\"\u001b[39m \u001b[39mnot\u001b[39;00m \u001b[39min\u001b[39;00m mode:\n\u001b[1;32m   1879\u001b[0m         mode \u001b[39m+\u001b[39m\u001b[39m=\u001b[39m \u001b[39m\"\u001b[39m\u001b[39mb\u001b[39m\u001b[39m\"\u001b[39m\n\u001b[0;32m-> 1880\u001b[0m \u001b[39mself\u001b[39m\u001b[39m.\u001b[39mhandles \u001b[39m=\u001b[39m get_handle(\n\u001b[1;32m   1881\u001b[0m     f,\n\u001b[1;32m   1882\u001b[0m     mode,\n\u001b[1;32m   1883\u001b[0m     encoding\u001b[39m=\u001b[39;49m\u001b[39mself\u001b[39;49m\u001b[39m.\u001b[39;49moptions\u001b[39m.\u001b[39;49mget(\u001b[39m\"\u001b[39;49m\u001b[39mencoding\u001b[39;49m\u001b[39m\"\u001b[39;49m, \u001b[39mNone\u001b[39;49;00m),\n\u001b[1;32m   1884\u001b[0m     compression\u001b[39m=\u001b[39;49m\u001b[39mself\u001b[39;49m\u001b[39m.\u001b[39;49moptions\u001b[39m.\u001b[39;49mget(\u001b[39m\"\u001b[39;49m\u001b[39mcompression\u001b[39;49m\u001b[39m\"\u001b[39;49m, \u001b[39mNone\u001b[39;49;00m),\n\u001b[1;32m   1885\u001b[0m     memory_map\u001b[39m=\u001b[39;49m\u001b[39mself\u001b[39;49m\u001b[39m.\u001b[39;49moptions\u001b[39m.\u001b[39;49mget(\u001b[39m\"\u001b[39;49m\u001b[39mmemory_map\u001b[39;49m\u001b[39m\"\u001b[39;49m, \u001b[39mFalse\u001b[39;49;00m),\n\u001b[1;32m   1886\u001b[0m     is_text\u001b[39m=\u001b[39;49mis_text,\n\u001b[1;32m   1887\u001b[0m     errors\u001b[39m=\u001b[39;49m\u001b[39mself\u001b[39;49m\u001b[39m.\u001b[39;49moptions\u001b[39m.\u001b[39;49mget(\u001b[39m\"\u001b[39;49m\u001b[39mencoding_errors\u001b[39;49m\u001b[39m\"\u001b[39;49m, \u001b[39m\"\u001b[39;49m\u001b[39mstrict\u001b[39;49m\u001b[39m\"\u001b[39;49m),\n\u001b[1;32m   1888\u001b[0m     storage_options\u001b[39m=\u001b[39;49m\u001b[39mself\u001b[39;49m\u001b[39m.\u001b[39;49moptions\u001b[39m.\u001b[39;49mget(\u001b[39m\"\u001b[39;49m\u001b[39mstorage_options\u001b[39;49m\u001b[39m\"\u001b[39;49m, \u001b[39mNone\u001b[39;49;00m),\n\u001b[1;32m   1889\u001b[0m )\n\u001b[1;32m   1890\u001b[0m \u001b[39massert\u001b[39;00m \u001b[39mself\u001b[39m\u001b[39m.\u001b[39mhandles \u001b[39mis\u001b[39;00m \u001b[39mnot\u001b[39;00m \u001b[39mNone\u001b[39;00m\n\u001b[1;32m   1891\u001b[0m f \u001b[39m=\u001b[39m \u001b[39mself\u001b[39m\u001b[39m.\u001b[39mhandles\u001b[39m.\u001b[39mhandle\n",
      "File \u001b[0;32m~/miniforge3/envs/orion/lib/python3.10/site-packages/pandas/io/common.py:873\u001b[0m, in \u001b[0;36mget_handle\u001b[0;34m(path_or_buf, mode, encoding, compression, memory_map, is_text, errors, storage_options)\u001b[0m\n\u001b[1;32m    868\u001b[0m \u001b[39melif\u001b[39;00m \u001b[39misinstance\u001b[39m(handle, \u001b[39mstr\u001b[39m):\n\u001b[1;32m    869\u001b[0m     \u001b[39m# Check whether the filename is to be opened in binary mode.\u001b[39;00m\n\u001b[1;32m    870\u001b[0m     \u001b[39m# Binary mode does not support 'encoding' and 'newline'.\u001b[39;00m\n\u001b[1;32m    871\u001b[0m     \u001b[39mif\u001b[39;00m ioargs\u001b[39m.\u001b[39mencoding \u001b[39mand\u001b[39;00m \u001b[39m\"\u001b[39m\u001b[39mb\u001b[39m\u001b[39m\"\u001b[39m \u001b[39mnot\u001b[39;00m \u001b[39min\u001b[39;00m ioargs\u001b[39m.\u001b[39mmode:\n\u001b[1;32m    872\u001b[0m         \u001b[39m# Encoding\u001b[39;00m\n\u001b[0;32m--> 873\u001b[0m         handle \u001b[39m=\u001b[39m \u001b[39mopen\u001b[39;49m(\n\u001b[1;32m    874\u001b[0m             handle,\n\u001b[1;32m    875\u001b[0m             ioargs\u001b[39m.\u001b[39;49mmode,\n\u001b[1;32m    876\u001b[0m             encoding\u001b[39m=\u001b[39;49mioargs\u001b[39m.\u001b[39;49mencoding,\n\u001b[1;32m    877\u001b[0m             errors\u001b[39m=\u001b[39;49merrors,\n\u001b[1;32m    878\u001b[0m             newline\u001b[39m=\u001b[39;49m\u001b[39m\"\u001b[39;49m\u001b[39m\"\u001b[39;49m,\n\u001b[1;32m    879\u001b[0m         )\n\u001b[1;32m    880\u001b[0m     \u001b[39melse\u001b[39;00m:\n\u001b[1;32m    881\u001b[0m         \u001b[39m# Binary mode\u001b[39;00m\n\u001b[1;32m    882\u001b[0m         handle \u001b[39m=\u001b[39m \u001b[39mopen\u001b[39m(handle, ioargs\u001b[39m.\u001b[39mmode)\n",
      "\u001b[0;31mFileNotFoundError\u001b[0m: [Errno 2] No such file or directory: '../data/train_val_test_LCA_REGRESSION_with_MHI_2021_data_NAS_path_small_mu.csv'"
     ]
    }
   ],
   "source": [
    "import os\n",
    "import os\n",
    "df = pd.read_csv(\n",
    "    \"../data/train_val_test_LCA_REGRESSION_with_MHI_2021_data_NAS_path_small_mu.csv\",\n",
    "    sep=\"µ\",\n",
    ")\n",
    "df.loc[df['Split']=='TEST'].y_true_cat.head(n=10)\n",
    "#df['y_true_cat'] = np.where(df['Value'] < 40.00, 1, 0)\n",
    "#df['FileName'] = df['FileName'].str.replace('/volume/Orion/exported_videos_512_by_512_MHI_UCSF/', '/media/data1/ravram/exported_videos_512_by_512_MHI_UCSF/')\n",
    "#df = df.sample(100)\n",
    "#df.to_csv('/volume/Orion/data/train_val_test_LCA_REGRESSION_with_MHI_2021_data_new_small_mu.csv', sep=\"µ\")\n",
    "#for file_name in df['FileName']:\n",
    "#    if os.path.exists(file_name):\n",
    "#        continue\n",
    "#    else:\n",
    "#        print(f\"{file_name} does not exist\")\n",
    "#df = df.sample(200)\n",
    "#df.to_csv('../data/train_val_test_LCA_REGRESSION_with_MHI_2021_data_NAS_path_small_mu.csv', sep=\"µ\")\n",
    "\n",
    "#file_name = \"/volume/Orion/exported_videos_512_by_512_MHI_UCSF/66661628_2469453.dcm.avi\"\n",
    "#split = df.loc[df['FileName'] == file_name, 'Split'].values[0]\n",
    "#print(split)\n"
   ]
  },
  {
   "cell_type": "code",
   "execution_count": 4,
   "metadata": {},
   "outputs": [],
   "source": [
    "##Load /volume/Orion/data/train_val_test_LCA_REGRESSION_with_MHI_2021_data_15_FPS_only_exclude_outliers_mu.csv with mu separator\n",
    "#df = pd.read_csv(\n",
    "#    \"/volume/Orion/data/train_val_test_LCA_REGRESSION_with_MHI_2021_data_15_FPS_only_exclude_outliers_mu.csv\",\n",
    "#    sep=\"µ\",\n",
    "#)\n",
    "#display(df.Value.describe())\n",
    "#display(df.FileName)\n",
    "\n",
    "def min_max_scaling(value, min_val=10, max_val=74.9):\n",
    "    \"\"\"\n",
    "    Apply min-max scaling to a given value.\n",
    "\n",
    "    Parameters:\n",
    "    value (float): The value to be scaled.\n",
    "    min_val (float): The minimum value of the original range.\n",
    "    max_val (float): The maximum value of the original range.\n",
    "\n",
    "    Returns:\n",
    "    float: The scaled value.\n",
    "    \"\"\"\n",
    "    return (value - min_val) / (max_val - min_val)\n",
    "\n",
    "# Example usage\n",
    "#df['Value_min_max'] = min_max_scaling(df['Value'])\n",
    "#display(df['Value_min_max'].describe())\n",
    "\n",
    "#df.to_csv(\n",
    "#    \"/volume/Orion/data/train_val_test_LCA_REGRESSION_with_MHI_2021_data_15_FPS_only_exclude_outliers_min_maxmu.csv\",\n",
    "#    sep=\"µ\",\n",
    "#)"
   ]
  },
  {
   "cell_type": "code",
   "execution_count": 6,
   "metadata": {},
   "outputs": [
    {
     "name": "stderr",
     "output_type": "stream",
     "text": [
      "\u001b[34m\u001b[1mwandb\u001b[0m: Currently logged in as: \u001b[33mrobertavram\u001b[0m (\u001b[33mmhi_ai\u001b[0m). Use \u001b[1m`wandb login --relogin`\u001b[0m to force relogin\n"
     ]
    },
    {
     "data": {
      "text/html": [
       "Tracking run with wandb version 0.16.3"
      ],
      "text/plain": [
       "<IPython.core.display.HTML object>"
      ]
     },
     "metadata": {},
     "output_type": "display_data"
    },
    {
     "data": {
      "text/html": [
       "Run data is saved locally in <code>/volume/Orion/notebooks/wandb/run-20240228_170155-a3octefa</code>"
      ],
      "text/plain": [
       "<IPython.core.display.HTML object>"
      ]
     },
     "metadata": {},
     "output_type": "display_data"
    },
    {
     "data": {
      "text/html": [
       "Syncing run <strong><a href='https://wandb.ai/mhi_ai/1_CathEF_UCSF_MHI_2021_Retrain_15_fps_ddp/runs/a3octefa' target=\"_blank\">1_CathEF_UCSF_MHI_2021_Retrain_15_fps_ddp</a></strong> to <a href='https://wandb.ai/mhi_ai/1_CathEF_UCSF_MHI_2021_Retrain_15_fps_ddp' target=\"_blank\">Weights & Biases</a> (<a href='https://wandb.me/run' target=\"_blank\">docs</a>)<br/>"
      ],
      "text/plain": [
       "<IPython.core.display.HTML object>"
      ]
     },
     "metadata": {},
     "output_type": "display_data"
    },
    {
     "data": {
      "text/html": [
       " View project at <a href='https://wandb.ai/mhi_ai/1_CathEF_UCSF_MHI_2021_Retrain_15_fps_ddp' target=\"_blank\">https://wandb.ai/mhi_ai/1_CathEF_UCSF_MHI_2021_Retrain_15_fps_ddp</a>"
      ],
      "text/plain": [
       "<IPython.core.display.HTML object>"
      ]
     },
     "metadata": {},
     "output_type": "display_data"
    },
    {
     "data": {
      "text/html": [
       " View run at <a href='https://wandb.ai/mhi_ai/1_CathEF_UCSF_MHI_2021_Retrain_15_fps_ddp/runs/a3octefa' target=\"_blank\">https://wandb.ai/mhi_ai/1_CathEF_UCSF_MHI_2021_Retrain_15_fps_ddp/runs/a3octefa</a>"
      ],
      "text/plain": [
       "<IPython.core.display.HTML object>"
      ]
     },
     "metadata": {},
     "output_type": "display_data"
    },
    {
     "name": "stdout",
     "output_type": "stream",
     "text": [
      "is_master True\n",
      "Run id a3octefa\n",
      "output_folder created swin3d_s_5_32_2_RAdam_new_20240228-170159_a3octefa\n",
      "Loading with 1 view count for mean and std\n",
      "Mean/STD value is not defined\n",
      "Mean/STD value is not defined\n"
     ]
    },
    {
     "name": "stderr",
     "output_type": "stream",
     "text": [
      "/volume/Orion/orion/datasets/video.py:710: SyntaxWarning: \"is\" with a literal. Did you mean \"==\"?\n",
      "  if input_value is 1.0 or input_value is 0.0:\n",
      "/volume/Orion/orion/datasets/video.py:710: SyntaxWarning: \"is\" with a literal. Did you mean \"==\"?\n",
      "  if input_value is 1.0 or input_value is 0.0:\n",
      "/volume/Orion/orion/datasets/video.py:710: SyntaxWarning: \"is\" with a literal. Did you mean \"==\"?\n",
      "  if input_value is 1.0 or input_value is 0.0:\n",
      "/volume/Orion/orion/datasets/video.py:710: SyntaxWarning: \"is\" with a literal. Did you mean \"==\"?\n",
      "  if input_value is 1.0 or input_value is 0.0:\n",
      "/volume/Orion/orion/datasets/video.py:710: SyntaxWarning: \"is\" with a literal. Did you mean \"==\"?\n",
      "  if input_value is 1.0 or input_value is 0.0:\n",
      "/volume/Orion/orion/datasets/video.py:710: SyntaxWarning: \"is\" with a literal. Did you mean \"==\"?\n",
      "  if input_value is 1.0 or input_value is 0.0:\n"
     ]
    },
    {
     "ename": "FileNotFoundError",
     "evalue": "[Errno 2] No such file or directory: '/volume/Orion/data/train_val_test_LCA_REGRESSION_with_MHI_2021_data_NAS_path_small_mu.csv'",
     "output_type": "error",
     "traceback": [
      "\u001b[0;31m---------------------------------------------------------------------------\u001b[0m",
      "\u001b[0;31mFileNotFoundError\u001b[0m                         Traceback (most recent call last)",
      "\u001b[1;32m/volume/Orion/notebooks/test_view_classifier.ipynb Cell 11\u001b[0m line \u001b[0;36m3\n\u001b[1;32m     <a href='vscode-notebook-cell://attached-container%2B7b22636f6e7461696e65724e616d65223a222f636f6d706574656e745f6e6f796365222c2273657474696e6773223a7b22686f7374223a227373683a2f2f31302e3132382e3232382e323239227d7d/volume/Orion/notebooks/test_view_classifier.ipynb#X13sdnNjb2RlLXJlbW90ZQ%3D%3D?line=30'>31</a>\u001b[0m run \u001b[39m=\u001b[39m video_training_and_eval\u001b[39m.\u001b[39msetup_run(args, config_defaults)\n\u001b[1;32m     <a href='vscode-notebook-cell://attached-container%2B7b22636f6e7461696e65724e616d65223a222f636f6d706574656e745f6e6f796365222c2273657474696e6773223a7b22686f7374223a227373683a2f2f31302e3132382e3232382e323239227d7d/volume/Orion/notebooks/test_view_classifier.ipynb#X13sdnNjb2RlLXJlbW90ZQ%3D%3D?line=31'>32</a>\u001b[0m \u001b[39m# Run the main process\u001b[39;00m\n\u001b[0;32m---> <a href='vscode-notebook-cell://attached-container%2B7b22636f6e7461696e65724e616d65223a222f636f6d706574656e745f6e6f796365222c2273657474696e6773223a7b22686f7374223a227373683a2f2f31302e3132382e3232382e323239227d7d/volume/Orion/notebooks/test_view_classifier.ipynb#X13sdnNjb2RlLXJlbW90ZQ%3D%3D?line=32'>33</a>\u001b[0m video_training_and_eval\u001b[39m.\u001b[39;49mexecute_run(config_defaults\u001b[39m=\u001b[39;49mconfig_defaults, transforms\u001b[39m=\u001b[39;49mtransform_list, args\u001b[39m=\u001b[39;49margs, run\u001b[39m=\u001b[39;49mrun)\n",
      "File \u001b[0;32m/volume/Orion/orion/utils/video_training_and_eval.py:87\u001b[0m, in \u001b[0;36mexecute_run\u001b[0;34m(config_defaults, transforms, args, run)\u001b[0m\n\u001b[1;32m     84\u001b[0m is_master \u001b[39m=\u001b[39m args\u001b[39m.\u001b[39mlocal_rank \u001b[39m==\u001b[39m \u001b[39m0\u001b[39m\n\u001b[1;32m     85\u001b[0m \u001b[39mprint\u001b[39m(\u001b[39m\"\u001b[39m\u001b[39mis_master\u001b[39m\u001b[39m\"\u001b[39m, is_master)\n\u001b[0;32m---> 87\u001b[0m config \u001b[39m=\u001b[39m setup_config(config_defaults, transforms, is_master, run\u001b[39m=\u001b[39;49mrun)\n\u001b[1;32m     88\u001b[0m use_amp \u001b[39m=\u001b[39m config\u001b[39m.\u001b[39mget(\u001b[39m\"\u001b[39m\u001b[39muse_amp\u001b[39m\u001b[39m\"\u001b[39m, \u001b[39mFalse\u001b[39;00m)\n\u001b[1;32m     89\u001b[0m \u001b[39mprint\u001b[39m(\u001b[39m\"\u001b[39m\u001b[39mUsing AMP\u001b[39m\u001b[39m\"\u001b[39m, use_amp)\n",
      "File \u001b[0;32m/volume/Orion/orion/utils/video_training_and_eval.py:400\u001b[0m, in \u001b[0;36msetup_config\u001b[0;34m(config, transforms, is_master, run)\u001b[0m\n\u001b[1;32m    391\u001b[0m \u001b[39mprint\u001b[39m(\u001b[39m\"\u001b[39m\u001b[39mLoading with 1 view count for mean and std\u001b[39m\u001b[39m\"\u001b[39m)\n\u001b[1;32m    392\u001b[0m \u001b[39mif\u001b[39;00m (\n\u001b[1;32m    393\u001b[0m     (\u001b[39m\"\u001b[39m\u001b[39mmean\u001b[39m\u001b[39m\"\u001b[39m \u001b[39mnot\u001b[39;00m \u001b[39min\u001b[39;00m config)\n\u001b[1;32m    394\u001b[0m     \u001b[39mor\u001b[39;00m (\u001b[39m\"\u001b[39m\u001b[39mstd\u001b[39m\u001b[39m\"\u001b[39m \u001b[39mnot\u001b[39;00m \u001b[39min\u001b[39;00m config)\n\u001b[0;32m   (...)\u001b[0m\n\u001b[1;32m    397\u001b[0m ):\n\u001b[1;32m    398\u001b[0m     \u001b[39m## Load a datswet for normalization\u001b[39;00m\n\u001b[1;32m    399\u001b[0m     mean, std \u001b[39m=\u001b[39m orion\u001b[39m.\u001b[39mutils\u001b[39m.\u001b[39mget_mean_and_std(\n\u001b[0;32m--> 400\u001b[0m         orion\u001b[39m.\u001b[39;49mdatasets\u001b[39m.\u001b[39;49mVideo(\n\u001b[1;32m    401\u001b[0m             root\u001b[39m=\u001b[39;49mconfig[\u001b[39m\"\u001b[39;49m\u001b[39mroot\u001b[39;49m\u001b[39m\"\u001b[39;49m],\n\u001b[1;32m    402\u001b[0m             split\u001b[39m=\u001b[39;49m\u001b[39m\"\u001b[39;49m\u001b[39mtrain\u001b[39;49m\u001b[39m\"\u001b[39;49m,\n\u001b[1;32m    403\u001b[0m             target_label\u001b[39m=\u001b[39;49mconfig[\u001b[39m\"\u001b[39;49m\u001b[39mtarget_label\u001b[39;49m\u001b[39m\"\u001b[39;49m],\n\u001b[1;32m    404\u001b[0m             data_filename\u001b[39m=\u001b[39;49mconfig[\u001b[39m\"\u001b[39;49m\u001b[39mdata_filename\u001b[39;49m\u001b[39m\"\u001b[39;49m],\n\u001b[1;32m    405\u001b[0m             datapoint_loc_label\u001b[39m=\u001b[39;49mconfig[\u001b[39m\"\u001b[39;49m\u001b[39mdatapoint_loc_label\u001b[39;49m\u001b[39m\"\u001b[39;49m],\n\u001b[1;32m    406\u001b[0m             video_transforms\u001b[39m=\u001b[39;49m\u001b[39mNone\u001b[39;49;00m,\n\u001b[1;32m    407\u001b[0m             resize\u001b[39m=\u001b[39;49mconfig[\u001b[39m\"\u001b[39;49m\u001b[39mresize\u001b[39;49m\u001b[39m\"\u001b[39;49m],\n\u001b[1;32m    408\u001b[0m             weighted_sampling\u001b[39m=\u001b[39;49m\u001b[39mFalse\u001b[39;49;00m,\n\u001b[1;32m    409\u001b[0m             normalize\u001b[39m=\u001b[39;49m\u001b[39mFalse\u001b[39;49;00m,\n\u001b[1;32m    410\u001b[0m         ),\n\u001b[1;32m    411\u001b[0m         batch_size\u001b[39m=\u001b[39mconfig[\u001b[39m\"\u001b[39m\u001b[39mbatch_size\u001b[39m\u001b[39m\"\u001b[39m],\n\u001b[1;32m    412\u001b[0m         num_workers\u001b[39m=\u001b[39mconfig[\u001b[39m\"\u001b[39m\u001b[39mnum_workers\u001b[39m\u001b[39m\"\u001b[39m],\n\u001b[1;32m    413\u001b[0m     )\n\u001b[1;32m    414\u001b[0m     \u001b[39mprint\u001b[39m(\u001b[39m\"\u001b[39m\u001b[39mMean\u001b[39m\u001b[39m\"\u001b[39m, mean)\n\u001b[1;32m    415\u001b[0m     \u001b[39mprint\u001b[39m(\u001b[39m\"\u001b[39m\u001b[39mStd\u001b[39m\u001b[39m\"\u001b[39m, std)\n",
      "File \u001b[0;32m/volume/Orion/orion/datasets/video.py:109\u001b[0m, in \u001b[0;36mVideo.__init__\u001b[0;34m(self, root, data_filename, split, target_label, datapoint_loc_label, resize, mean, std, length, period, max_length, clips, pad, noise, video_transforms, rand_augment, apply_mask, target_transform, external_test_location, weighted_sampling, normalize, debug)\u001b[0m\n\u001b[1;32m    107\u001b[0m     \u001b[39mself\u001b[39m\u001b[39m.\u001b[39mfnames \u001b[39m=\u001b[39m \u001b[39msorted\u001b[39m(os\u001b[39m.\u001b[39mlistdir(\u001b[39mself\u001b[39m\u001b[39m.\u001b[39mexternal_test_location))\n\u001b[1;32m    108\u001b[0m \u001b[39melse\u001b[39;00m:\n\u001b[0;32m--> 109\u001b[0m     \u001b[39mwith\u001b[39;00m \u001b[39mopen\u001b[39;49m(os\u001b[39m.\u001b[39;49mpath\u001b[39m.\u001b[39;49mjoin(\u001b[39mself\u001b[39;49m\u001b[39m.\u001b[39;49mfolder, \u001b[39mself\u001b[39;49m\u001b[39m.\u001b[39;49mfilename)) \u001b[39mas\u001b[39;00m f:\n\u001b[1;32m    110\u001b[0m         \u001b[39mself\u001b[39m\u001b[39m.\u001b[39mheader \u001b[39m=\u001b[39m f\u001b[39m.\u001b[39mreadline()\u001b[39m.\u001b[39mstrip()\u001b[39m.\u001b[39msplit(\u001b[39m\"\u001b[39m\u001b[39mµ\u001b[39m\u001b[39m\"\u001b[39m)\n\u001b[1;32m    111\u001b[0m     \u001b[39mself\u001b[39m\u001b[39m.\u001b[39mfnames, \u001b[39mself\u001b[39m\u001b[39m.\u001b[39moutcomes, target_index \u001b[39m=\u001b[39m \u001b[39mself\u001b[39m\u001b[39m.\u001b[39mload_data(split, target_label)\n",
      "\u001b[0;31mFileNotFoundError\u001b[0m: [Errno 2] No such file or directory: '/volume/Orion/data/train_val_test_LCA_REGRESSION_with_MHI_2021_data_NAS_path_small_mu.csv'"
     ]
    }
   ],
   "source": [
    "# from orion.utils import video_regress_ddp\n",
    "from orion.utils import video_training_and_eval\n",
    "import wandb\n",
    "import yaml\n",
    "os.environ[\"WANDB_NOTEBOOK_NAME\"] = \"test_view_classifier.ipynb\"\n",
    "# Set environment variables for 'env://' initialization\n",
    "os.environ['RANK'] = '0'\n",
    "os.environ['WORLD_SIZE'] = '1'\n",
    "os.environ['MASTER_ADDR'] = 'localhost'\n",
    "os.environ['MASTER_PORT'] = '12355'  # Use an open port\n",
    "\n",
    "\n",
    "class Args:\n",
    "    def __init__(self):\n",
    "        self.local_rank = 0  # Set default values as needed\n",
    "        self.log_all = False\n",
    "        self.epochs = 2\n",
    "        self.batch = 32\n",
    "\n",
    "\n",
    "# Create an instance of Args\n",
    "args = Args()\n",
    "\n",
    "# Load configuration from YAML file\n",
    "with open('config/config_small.yaml', 'r') as file:\n",
    "    config_defaults = yaml.safe_load(file)\n",
    "# Create the transforms\n",
    "transform_list = video_training_and_eval.create_transforms(config_defaults)\n",
    "\n",
    "# Initialize a wandb run if logging, otherwise return None\n",
    "run = video_training_and_eval.setup_run(args, config_defaults)\n",
    "# Run the main process\n",
    "video_training_and_eval.execute_run(config_defaults=config_defaults, transforms=transform_list, args=args, run=run)"
   ]
  },
  {
   "cell_type": "markdown",
   "metadata": {},
   "source": [
    "# Plot predictions for sanity check"
   ]
  },
  {
   "cell_type": "code",
   "execution_count": 2,
   "metadata": {},
   "outputs": [
    {
     "name": "stderr",
     "output_type": "stream",
     "text": [
      "/tmp/ipykernel_56157/589086933.py:17: DeprecationWarning: Importing display from IPython.core.display is deprecated since IPython 7.14, please import from IPython display\n",
      "  from IPython.core.display import HTML, display\n"
     ]
    },
    {
     "data": {
      "text/html": [
       "<style>.container { width:100% !important; }</style>"
      ],
      "text/plain": [
       "<IPython.core.display.HTML object>"
      ]
     },
     "metadata": {},
     "output_type": "display_data"
    }
   ],
   "source": [
    "### import os\n",
    "import os\n",
    "import sys\n",
    "\n",
    "## CHANGE THIS\n",
    "dir2 = os.path.abspath(\"/volume/Orion/orion\")\n",
    "dir1 = os.path.dirname(dir2)\n",
    "if not dir1 in sys.path:\n",
    "    sys.path.append(dir1)\n",
    "import importlib\n",
    "\n",
    "importlib.util.find_spec(\"orion\")\n",
    "import csv\n",
    "\n",
    "import numpy as np\n",
    "import pandas as pd\n",
    "from IPython.core.display import HTML, display\n",
    "\n",
    "display(HTML(\"<style>.container { width:100% !important; }</style>\"))\n",
    "pd.set_option(\"display.max_rows\", 50)\n",
    "pd.set_option(\"display.max_columns\", 250)\n",
    "pd.set_option(\"display.width\", 1000)\n",
    "pd.set_option(\"display.max_colwidth\", 300)\n",
    "pd.options.mode.chained_assignment = None  # default='warn'\n"
   ]
  },
  {
   "cell_type": "code",
   "execution_count": 3,
   "metadata": {},
   "outputs": [
    {
     "ename": "ImportError",
     "evalue": "cannot import name 'plot_avi' from 'downloadAvi' (/volume/DicomVideoProcessing/downloadAvi/__init__.py)",
     "output_type": "error",
     "traceback": [
      "\u001b[0;31m---------------------------------------------------------------------------\u001b[0m",
      "\u001b[0;31mImportError\u001b[0m                               Traceback (most recent call last)",
      "\u001b[1;32m/volume/Orion/notebooks/test_view_classifier.ipynb Cell 14\u001b[0m line \u001b[0;36m8\n\u001b[1;32m      <a href='vscode-notebook-cell://attached-container%2B7b22636f6e7461696e65724e616d65223a222f636f6d706574656e745f6e6f796365222c2273657474696e6773223a7b22686f7374223a227373683a2f2f31302e3132382e3232382e323239227d7d/volume/Orion/notebooks/test_view_classifier.ipynb#X16sdnNjb2RlLXJlbW90ZQ%3D%3D?line=4'>5</a>\u001b[0m \u001b[39mimport\u001b[39;00m \u001b[39mimportlib\u001b[39;00m\n\u001b[1;32m      <a href='vscode-notebook-cell://attached-container%2B7b22636f6e7461696e65724e616d65223a222f636f6d706574656e745f6e6f796365222c2273657474696e6773223a7b22686f7374223a227373683a2f2f31302e3132382e3232382e323239227d7d/volume/Orion/notebooks/test_view_classifier.ipynb#X16sdnNjb2RlLXJlbW90ZQ%3D%3D?line=6'>7</a>\u001b[0m importlib\u001b[39m.\u001b[39mutil\u001b[39m.\u001b[39mfind_spec(\u001b[39m\"\u001b[39m\u001b[39mdownloadAvi\u001b[39m\u001b[39m\"\u001b[39m)\n\u001b[0;32m----> <a href='vscode-notebook-cell://attached-container%2B7b22636f6e7461696e65724e616d65223a222f636f6d706574656e745f6e6f796365222c2273657474696e6773223a7b22686f7374223a227373683a2f2f31302e3132382e3232382e323239227d7d/volume/Orion/notebooks/test_view_classifier.ipynb#X16sdnNjb2RlLXJlbW90ZQ%3D%3D?line=7'>8</a>\u001b[0m \u001b[39mfrom\u001b[39;00m \u001b[39mdownloadAvi\u001b[39;00m \u001b[39mimport\u001b[39;00m plot_avi \u001b[39mas\u001b[39;00m plot_avi\n",
      "\u001b[0;31mImportError\u001b[0m: cannot import name 'plot_avi' from 'downloadAvi' (/volume/DicomVideoProcessing/downloadAvi/__init__.py)"
     ]
    }
   ],
   "source": [
    "dir2 = os.path.abspath(\"/volume/DicomVideoProcessing/downloadAvi/\")\n",
    "dir1 = os.path.dirname(dir2)\n",
    "if not dir1 in sys.path:\n",
    "    sys.path.append(dir1)\n",
    "import importlib\n",
    "\n",
    "importlib.util.find_spec(\"downloadAvi\")\n",
    "from downloadAvi import plot_avi as plot_avi"
   ]
  },
  {
   "cell_type": "code",
   "execution_count": null,
   "metadata": {},
   "outputs": [],
   "source": [
    "\n",
    "df_predictions = pd.read_csv('../trained_models/swin3d_s_2_24_1_RAdam_new_20231222-154107/test_predictions.csv')\n",
    "df_predictions = df_predictions.rename(columns={'filename': 'FileName'})\n",
    "\n",
    "class_mapping = {\n",
    "    0: \"Aorta\",\n",
    "    1: \"Catheter\",\n",
    "    2: \"Femoral\",\n",
    "    3: \"Graft\",\n",
    "    4: \"LV\",\n",
    "    5: \"Left\",\n",
    "    6: \"Other\",\n",
    "    7: \"Pigtail\",\n",
    "    8: \"Radial\",\n",
    "    9: \"Right\",\n",
    "    10: \"Stenting\"\n",
    "}\n",
    "\n",
    "def get_predicted_class(prob_string):\n",
    "    prob_array = np.array([float(num) for num in prob_string.strip(\"[]\").split()])\n",
    "    predicted_class = np.argmax(prob_array)\n",
    "    return predicted_class, class_mapping[predicted_class]\n",
    "\n",
    "# Apply the function to each row in the 'y_pred' column\n",
    "df_predictions[['y_pred', 'predicted_class']] = df_predictions['y_hat'].apply(get_predicted_class).apply(pd.Series)\n",
    "\n",
    "df_predictions['y_true_mapped'] = df_predictions['y_true'].map(class_mapping)\n",
    "\n",
    "#print(df_predictions.head(n=25))\n",
    "# Example usage\n",
    "# Assuming your DataFrame is named df\n",
    "plot_avi.sample_and_plot_middle_frames(df_predictions, N=15, label_column='y_true_mapped', second_label_column='predicted_class')\n"
   ]
  },
  {
   "cell_type": "code",
   "execution_count": null,
   "metadata": {},
   "outputs": [],
   "source": [
    "mismatched_instances = df_predictions[df_predictions['y_true'] != df_predictions['y_pred']]\n",
    "print(len(mismatched_instances))\n",
    "# Assuming your DataFrame is named df\n",
    "plot_avi.sample_and_plot_middle_frames(mismatched_instances, N=25, label_column='y_true_mapped', second_label_column='predicted_class')\n"
   ]
  },
  {
   "cell_type": "code",
   "execution_count": null,
   "metadata": {},
   "outputs": [],
   "source": [
    "import pandas as pd\n",
    "## Load  /volume/Orion/data/DeepCORO_ALGO1_ObjectRecong_with_CathEF_UCSF_MHI_dataset_train_test_dev_NAS_path_mu.csv\n",
    "df = pd.read_csv('/volume/Orion/data/DeepCORO_ALGO1_ObjectRecong_with_CathEF_UCSF_MHI_dataset_train_test_dev_NAS_path_mu.csv', sep='µ')\n",
    "display(df.head(n=5))"
   ]
  },
  {
   "cell_type": "code",
   "execution_count": null,
   "metadata": {},
   "outputs": [],
   "source": [
    "## Find how manydf['FileName'] is in df_predictions['FileName']\n",
    "display(df.loc[df['FileName'].isin(df_predictions['FileName'])].Split.value_counts())\n",
    "display(df['FileName'].isin(df_predictions['FileName']).value_counts())"
   ]
  },
  {
   "cell_type": "code",
   "execution_count": null,
   "metadata": {},
   "outputs": [],
   "source": []
  }
 ],
 "metadata": {
  "kernelspec": {
   "display_name": "orion",
   "language": "python",
   "name": "python3"
  },
  "language_info": {
   "codemirror_mode": {
    "name": "ipython",
    "version": 3
   },
   "file_extension": ".py",
   "mimetype": "text/x-python",
   "name": "python",
   "nbconvert_exporter": "python",
   "pygments_lexer": "ipython3",
   "version": "3.10.13"
  },
  "widgets": {
   "application/vnd.jupyter.widget-state+json": {
    "state": {},
    "version_major": 2,
    "version_minor": 0
   }
  }
 },
 "nbformat": 4,
 "nbformat_minor": 4
}
